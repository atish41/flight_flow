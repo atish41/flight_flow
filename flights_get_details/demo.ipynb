{
 "cells": [
  {
   "cell_type": "code",
   "execution_count": 5,
   "metadata": {},
   "outputs": [
    {
     "name": "stderr",
     "output_type": "stream",
     "text": [
      "<>:5: SyntaxWarning: invalid escape sequence '\\g'\n",
      "<>:5: SyntaxWarning: invalid escape sequence '\\g'\n",
      "C:\\Users\\home\\AppData\\Local\\Temp\\ipykernel_18320\\1919322300.py:5: SyntaxWarning: invalid escape sequence '\\g'\n",
      "  image_path='D:\\gg\\Flights_apis\\flights_get_details\\new_item.webp'\n",
      "C:\\Users\\home\\AppData\\Local\\Temp\\ipykernel_18320\\1919322300.py:5: SyntaxWarning: invalid escape sequence '\\g'\n",
      "  image_path='D:\\gg\\Flights_apis\\flights_get_details\\new_item.webp'\n"
     ]
    },
    {
     "ename": "OSError",
     "evalue": "[Errno 22] Invalid argument: 'D:\\\\gg\\\\Flights_apis\\x0clights_get_details\\new_item.webp'",
     "output_type": "error",
     "traceback": [
      "\u001b[1;31m---------------------------------------------------------------------------\u001b[0m",
      "\u001b[1;31mOSError\u001b[0m                                   Traceback (most recent call last)",
      "Cell \u001b[1;32mIn[5], line 6\u001b[0m\n\u001b[0;32m      3\u001b[0m \u001b[38;5;66;03m# Load the generated image\u001b[39;00m\n\u001b[0;32m      4\u001b[0m \u001b[38;5;66;03m# image_path = \"/mnt/data/A_friendly,_human-like_AI_assistant_with_a_warm_sm.png\"\u001b[39;00m\n\u001b[0;32m      5\u001b[0m image_path\u001b[38;5;241m=\u001b[39m\u001b[38;5;124m'\u001b[39m\u001b[38;5;124mD:\u001b[39m\u001b[38;5;124m\\\u001b[39m\u001b[38;5;124mgg\u001b[39m\u001b[38;5;124m\\\u001b[39m\u001b[38;5;124mFlights_apis\u001b[39m\u001b[38;5;130;01m\\f\u001b[39;00m\u001b[38;5;124mlights_get_details\u001b[39m\u001b[38;5;130;01m\\n\u001b[39;00m\u001b[38;5;124mew_item.webp\u001b[39m\u001b[38;5;124m'\u001b[39m\n\u001b[1;32m----> 6\u001b[0m img \u001b[38;5;241m=\u001b[39m \u001b[43mImage\u001b[49m\u001b[38;5;241;43m.\u001b[39;49m\u001b[43mopen\u001b[49m\u001b[43m(\u001b[49m\u001b[43mimage_path\u001b[49m\u001b[43m)\u001b[49m\n\u001b[0;32m      8\u001b[0m \u001b[38;5;66;03m# Convert to JPG format and save\u001b[39;00m\n\u001b[0;32m      9\u001b[0m jpg_image_path \u001b[38;5;241m=\u001b[39m \u001b[38;5;124m\"\u001b[39m\u001b[38;5;124m/mnt/data/AI_Assistant_Image.jpg\u001b[39m\u001b[38;5;124m\"\u001b[39m\n",
      "File \u001b[1;32md:\\gg\\Flights_apis\\flights_get_details\\.venv\\Lib\\site-packages\\PIL\\Image.py:3431\u001b[0m, in \u001b[0;36mopen\u001b[1;34m(fp, mode, formats)\u001b[0m\n\u001b[0;32m   3428\u001b[0m     filename \u001b[38;5;241m=\u001b[39m os\u001b[38;5;241m.\u001b[39mpath\u001b[38;5;241m.\u001b[39mrealpath(os\u001b[38;5;241m.\u001b[39mfspath(fp))\n\u001b[0;32m   3430\u001b[0m \u001b[38;5;28;01mif\u001b[39;00m filename:\n\u001b[1;32m-> 3431\u001b[0m     fp \u001b[38;5;241m=\u001b[39m \u001b[43mbuiltins\u001b[49m\u001b[38;5;241;43m.\u001b[39;49m\u001b[43mopen\u001b[49m\u001b[43m(\u001b[49m\u001b[43mfilename\u001b[49m\u001b[43m,\u001b[49m\u001b[43m \u001b[49m\u001b[38;5;124;43m\"\u001b[39;49m\u001b[38;5;124;43mrb\u001b[39;49m\u001b[38;5;124;43m\"\u001b[39;49m\u001b[43m)\u001b[49m\n\u001b[0;32m   3432\u001b[0m     exclusive_fp \u001b[38;5;241m=\u001b[39m \u001b[38;5;28;01mTrue\u001b[39;00m\n\u001b[0;32m   3433\u001b[0m \u001b[38;5;28;01melse\u001b[39;00m:\n",
      "\u001b[1;31mOSError\u001b[0m: [Errno 22] Invalid argument: 'D:\\\\gg\\\\Flights_apis\\x0clights_get_details\\new_item.webp'"
     ]
    }
   ],
   "source": [
    "from PIL import Image\n",
    "\n",
    "# Load the generated image\n",
    "# image_path = \"/mnt/data/A_friendly,_human-like_AI_assistant_with_a_warm_sm.png\"\n",
    "image_path='D:\\gg\\Flights_apis\\flights_get_details\\new_item.webp'\n",
    "img = Image.open(image_path)\n",
    "\n",
    "# Convert to JPG format and save\n",
    "jpg_image_path = \"/mnt/data/AI_Assistant_Image.jpg\"\n",
    "img.convert(\"RGB\").save(jpg_image_path, \"JPEG\")\n",
    "\n",
    "jpg_image_path\n"
   ]
  },
  {
   "cell_type": "code",
   "execution_count": null,
   "metadata": {},
   "outputs": [],
   "source": []
  }
 ],
 "metadata": {
  "kernelspec": {
   "display_name": ".venv",
   "language": "python",
   "name": "python3"
  },
  "language_info": {
   "codemirror_mode": {
    "name": "ipython",
    "version": 3
   },
   "file_extension": ".py",
   "mimetype": "text/x-python",
   "name": "python",
   "nbconvert_exporter": "python",
   "pygments_lexer": "ipython3",
   "version": "3.12.4"
  }
 },
 "nbformat": 4,
 "nbformat_minor": 2
}
